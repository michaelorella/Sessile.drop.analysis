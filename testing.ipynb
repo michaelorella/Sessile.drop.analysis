{
 "cells": [
  {
   "cell_type": "code",
   "execution_count": 1,
   "metadata": {},
   "outputs": [],
   "source": [
    "import skimage\n",
    "import numpy as np\n",
    "import matplotlib.pyplot as plt\n",
    "\n",
    "import scipy as sp\n",
    "import scipy.optimize\n",
    "\n",
    "from scipy import ndimage as ndi\n",
    "from skimage import feature\n",
    "from skimage import io"
   ]
  },
  {
   "cell_type": "code",
   "execution_count": 2,
   "metadata": {},
   "outputs": [],
   "source": [
    "im = io.imread('../15-seconds.png',as_gray=True)"
   ]
  },
  {
   "cell_type": "code",
   "execution_count": 3,
   "metadata": {},
   "outputs": [
    {
     "data": {
      "text/plain": [
       "(768, 1366)"
      ]
     },
     "execution_count": 3,
     "metadata": {},
     "output_type": "execute_result"
    }
   ],
   "source": [
    "im.shape"
   ]
  },
  {
   "cell_type": "code",
   "execution_count": 4,
   "metadata": {},
   "outputs": [
    {
     "data": {
      "image/png": "[encoded data removed]",
      "text/plain": [
       "<Figure size 432x288 with 1 Axes>"
      ]
     },
     "metadata": {
      "needs_background": "light"
     },
     "output_type": "display_data"
    }
   ],
   "source": [
    "plt.imshow(im,cmap = 'gray',vmin = 0, vmax = 1)\n",
    "plt.gca().axis('off');"
   ]
  },
  {
   "cell_type": "code",
   "execution_count": 6,
   "metadata": {},
   "outputs": [
    {
     "data": {
      "text/plain": [
       "0"
      ]
     },
     "execution_count": 6,
     "metadata": {},
     "output_type": "execute_result"
    },
    {
     "name": "stderr",
     "output_type": "stream",
     "text": [
      "Traceback (most recent call last):\n",
      "  File \"C:\\Users\\Mike Orella\\Miniconda3\\envs\\images\\lib\\site-packages\\matplotlib\\cbook\\__init__.py\", line 215, in process\n",
      "    func(*args, **kwargs)\n",
      "  File \"C:\\Users\\Mike Orella\\Miniconda3\\envs\\images\\lib\\site-packages\\matplotlib\\widgets.py\", line 417, in _update\n",
      "    self.set_val(val)\n",
      "  File \"C:\\Users\\Mike Orella\\Miniconda3\\envs\\images\\lib\\site-packages\\matplotlib\\widgets.py\", line 438, in set_val\n",
      "    func(val)\n",
      "  File \"<ipython-input-6-d3f05d136231>\", line 13, in update\n",
      "    e1 = feature.canny(im,sigma = np.power(10,val))\n",
      "ValueError: Integers to negative integer powers are not allowed.\n"
     ]
    }
   ],
   "source": [
    "%matplotlib qt\n",
    "e1 = feature.canny(im,sigma = 0,low_threshold = 0.1, high_threshold = 0.5)\n",
    "\n",
    "fig, ax = plt.subplots(2,1,gridspec_kw = {'height_ratios':[10,1]},figsize = (5,5))\n",
    "\n",
    "ax[0].imshow(e1,cmap = 'gray_r',vmin = 0, vmax = 1)\n",
    "\n",
    "import matplotlib.widgets\n",
    "\n",
    "sigmaSlider = matplotlib.widgets.Slider(ax[1],r'$\\sigma$',-3,3,valinit = 0,color = 'gray')\n",
    "\n",
    "def update(val):\n",
    "    e1 = feature.canny(im,sigma = np.power(10,val))\n",
    "    ax[0].imshow(e1,cmap = 'gray_r',vmin = 0, vmax = 1)\n",
    "    fig.canvas.draw_idle()\n",
    "    \n",
    "sigmaSlider.on_changed(update)\n"
   ]
  },
  {
   "cell_type": "code",
   "execution_count": null,
   "metadata": {},
   "outputs": [],
   "source": [
    "ind = np.array([[i,j] for j,row in enumerate(e1) for i,x in enumerate(row) if x])\n",
    "crop = np.array([[x,y] for x,y in ind if (x >= 400 and x <= 800 and y >= 200 and y <= 600 )])"
   ]
  },
  {
   "cell_type": "code",
   "execution_count": null,
   "metadata": {
    "scrolled": false
   },
   "outputs": [],
   "source": [
    "%matplotlib inline\n",
    "plt.figure(figsize=(10,10))\n",
    "plt.scatter(ind[:,0],ind[:,1])\n",
    "plt.xlim([400,800])\n",
    "plt.ylim([600,200])"
   ]
  },
  {
   "cell_type": "code",
   "execution_count": null,
   "metadata": {},
   "outputs": [],
   "source": [
    "baseline_l = np.array([[x,y] for x,y in ind if (x >= 400 and x <= 420 and y >= 200 and y <= 600 )])\n",
    "baseline_r = np.array([[x,y] for x,y in ind if (x >= 780 and x <= 800 and y >= 200 and y <= 600 )])"
   ]
  },
  {
   "cell_type": "code",
   "execution_count": null,
   "metadata": {},
   "outputs": [],
   "source": [
    "A = np.ones((baseline_l.shape[0] + baseline_r.shape[0],2))\n",
    "A[:,1] = np.concatenate((baseline_l[:,0],baseline_r[:,0]))\n",
    "c = np.concatenate((baseline_l[:,1],baseline_r[:,1]))\n",
    "thet = np.linalg.lstsq(A,c)[0]\n",
    "thet"
   ]
  },
  {
   "cell_type": "code",
   "execution_count": null,
   "metadata": {},
   "outputs": [],
   "source": [
    "b,m = thet\n",
    "plt.plot(crop[:,0],crop[:,1] - (m*crop[:,0]+b),'.')\n",
    "plt.ylim([0,-400])"
   ]
  },
  {
   "cell_type": "code",
   "execution_count": null,
   "metadata": {},
   "outputs": [],
   "source": [
    "circ_points = np.array([(x,y) for x,y in crop if y - (m*x + b)  <= -5])"
   ]
  },
  {
   "cell_type": "code",
   "execution_count": null,
   "metadata": {},
   "outputs": [],
   "source": [
    "plt.plot(circ_points[:,0],circ_points[:,1],'.')"
   ]
  },
  {
   "cell_type": "code",
   "execution_count": null,
   "metadata": {},
   "outputs": [],
   "source": [
    "def dist(param,points):\n",
    "    *z , r = param\n",
    "    ar = [(np.linalg.norm(np.array(z) - np.array(point)) - r)**2 for point in points]\n",
    "    return np.sum(ar)"
   ]
  },
  {
   "cell_type": "code",
   "execution_count": null,
   "metadata": {},
   "outputs": [],
   "source": [
    "res = sp.optimize.minimize(lambda x: dist(x,circ_points),np.concatenate((np.mean(circ_points, axis = 0),[200])))"
   ]
  },
  {
   "cell_type": "code",
   "execution_count": null,
   "metadata": {},
   "outputs": [],
   "source": [
    "theta = np.linspace(0,2*np.pi,num = 100)"
   ]
  },
  {
   "cell_type": "code",
   "execution_count": null,
   "metadata": {},
   "outputs": [],
   "source": [
    "*z, r = res['x']\n",
    "x = z[0] + r * np.cos(theta)\n",
    "y = z[1] + r * np.sin(theta)"
   ]
  },
  {
   "cell_type": "code",
   "execution_count": null,
   "metadata": {},
   "outputs": [],
   "source": [
    "plt.figure(figsize = (3,3))\n",
    "plt.plot(x,y,'r-')\n",
    "plt.plot(circ_points[:,0],circ_points[:,1],'.')"
   ]
  },
  {
   "cell_type": "code",
   "execution_count": null,
   "metadata": {},
   "outputs": [],
   "source": [
    "np.sqrt(res['fun'])"
   ]
  },
  {
   "cell_type": "code",
   "execution_count": null,
   "metadata": {},
   "outputs": [],
   "source": [
    "circ_points.shape"
   ]
  },
  {
   "cell_type": "code",
   "execution_count": null,
   "metadata": {},
   "outputs": [],
   "source": [
    "new_points = np.array([(x,y) for x,y in circ_points if (x - z[0])**2 + (y-z[1])**2 >= r**2])"
   ]
  },
  {
   "cell_type": "code",
   "execution_count": null,
   "metadata": {},
   "outputs": [],
   "source": [
    "plt.figure(figsize = (3,3))\n",
    "plt.plot(x,y,'r-')\n",
    "plt.plot(new_points[:,0],new_points[:,1],'.')\n",
    "plt.xlim([500,750])\n",
    "plt.ylim([250,500])"
   ]
  },
  {
   "cell_type": "code",
   "execution_count": null,
   "metadata": {},
   "outputs": [],
   "source": [
    "res = sp.optimize.minimize(lambda x: dist(x,new_points),np.concatenate((np.mean(new_points, axis = 0),[100])))\n",
    "res"
   ]
  },
  {
   "cell_type": "code",
   "execution_count": null,
   "metadata": {},
   "outputs": [],
   "source": [
    "*z, r = res['x']\n",
    "x = z[0] + r * np.cos(theta)\n",
    "y = z[1] + r * np.sin(theta)"
   ]
  },
  {
   "cell_type": "code",
   "execution_count": null,
   "metadata": {},
   "outputs": [],
   "source": [
    "plt.figure(figsize = (3,3))\n",
    "plt.plot(x,y,'r-')\n",
    "plt.plot(new_points[:,0],new_points[:,1],'.')\n",
    "plt.xlim([500,780])\n",
    "plt.ylim([250,530])"
   ]
  },
  {
   "cell_type": "code",
   "execution_count": null,
   "metadata": {},
   "outputs": [],
   "source": [
    "np.sqrt(res['fun'])"
   ]
  },
  {
   "cell_type": "code",
   "execution_count": null,
   "metadata": {},
   "outputs": [],
   "source": [
    "x = new_points"
   ]
  },
  {
   "cell_type": "code",
   "execution_count": null,
   "metadata": {},
   "outputs": [],
   "source": [
    "x[0:2,:]"
   ]
  },
  {
   "cell_type": "code",
   "execution_count": null,
   "metadata": {},
   "outputs": [],
   "source": [
    "x[0,0] = 100\n",
    "new_points[0:2,:]"
   ]
  },
  {
   "cell_type": "code",
   "execution_count": null,
   "metadata": {},
   "outputs": [],
   "source": [
    "plt.figure(figsize=(10,10))\n",
    "plt.imshow(im,cmap = 'gray',vmin = 0, vmax = 1)\n",
    "plt.gca().axis('off');\n",
    "plt.plot(x,y,'r-')\n",
    "\n",
    "plt.plot([0,1366],[b,m*1366+b],'r-')\n",
    "plt.xlim([500,780])\n",
    "plt.ylim([530,250])"
   ]
  },
  {
   "cell_type": "code",
   "execution_count": null,
   "metadata": {},
   "outputs": [],
   "source": [
    "im = io.imread('../45-seconds.png',as_gray=True)"
   ]
  },
  {
   "cell_type": "code",
   "execution_count": null,
   "metadata": {},
   "outputs": [],
   "source": [
    "im.shape"
   ]
  },
  {
   "cell_type": "code",
   "execution_count": null,
   "metadata": {},
   "outputs": [],
   "source": [
    "plt.imshow(im,cmap = 'gray',vmin = 0, vmax = 1)\n",
    "plt.gca().axis('off');"
   ]
  },
  {
   "cell_type": "code",
   "execution_count": null,
   "metadata": {},
   "outputs": [],
   "source": [
    "e1 = feature.canny(im,sigma = 0,low_threshold = 0.1, high_threshold = 0.5)\n",
    "plt.figure(figsize=(10,10))\n",
    "plt.imshow(e1,cmap = 'gray_r',vmin = 0, vmax = 1)\n",
    "plt.gca().axis('off')"
   ]
  },
  {
   "cell_type": "code",
   "execution_count": null,
   "metadata": {},
   "outputs": [],
   "source": [
    "ind = np.array([[i,j] for j,row in enumerate(e1) for i,x in enumerate(row) if x])\n",
    "crop = np.array([[x,y] for x,y in ind if (x >= 400 and x <= 1000 and y >= 500 and y <= 800 )])"
   ]
  },
  {
   "cell_type": "code",
   "execution_count": null,
   "metadata": {
    "scrolled": false
   },
   "outputs": [],
   "source": [
    "%matplotlib inline\n",
    "plt.figure(figsize=(10,10))\n",
    "plt.scatter(ind[:,0],ind[:,1])\n",
    "plt.xlim([400,1000])\n",
    "plt.ylim([800,500])"
   ]
  },
  {
   "cell_type": "code",
   "execution_count": null,
   "metadata": {},
   "outputs": [],
   "source": [
    "baseline_l = np.array([[x,y] for x,y in ind if (x >= 400 and x <= 420 and y >= 500 and y <= 800 )])\n",
    "baseline_r = np.array([[x,y] for x,y in ind if (x >= 980 and x <= 1000 and y >= 500 and y <= 800 )])"
   ]
  },
  {
   "cell_type": "code",
   "execution_count": null,
   "metadata": {},
   "outputs": [],
   "source": [
    "A = np.ones((baseline_l.shape[0] + baseline_r.shape[0],2))\n",
    "A[:,1] = np.concatenate((baseline_l[:,0],baseline_r[:,0]))\n",
    "c = np.concatenate((baseline_l[:,1],baseline_r[:,1]))\n",
    "thet = np.linalg.lstsq(A,c)[0]\n",
    "thet"
   ]
  },
  {
   "cell_type": "code",
   "execution_count": null,
   "metadata": {},
   "outputs": [],
   "source": [
    "b,m = thet\n",
    "plt.plot(crop[:,0],crop[:,1] - (m*crop[:,0]+b),'.')\n",
    "plt.ylim([0,-50])"
   ]
  },
  {
   "cell_type": "code",
   "execution_count": null,
   "metadata": {},
   "outputs": [],
   "source": [
    "circ_points = np.array([(x,y) for x,y in crop if y - (m*x + b)  <= -5])"
   ]
  },
  {
   "cell_type": "code",
   "execution_count": null,
   "metadata": {},
   "outputs": [],
   "source": [
    "plt.plot(circ_points[:,0],circ_points[:,1],'.')"
   ]
  },
  {
   "cell_type": "code",
   "execution_count": null,
   "metadata": {},
   "outputs": [],
   "source": [
    "res = sp.optimize.minimize(lambda x: dist(x,circ_points),np.concatenate((np.mean(circ_points, axis = 0),[200])))"
   ]
  },
  {
   "cell_type": "code",
   "execution_count": null,
   "metadata": {},
   "outputs": [],
   "source": [
    "*z, r = res['x']\n",
    "x = z[0] + r * np.cos(theta)\n",
    "y = z[1] + r * np.sin(theta)"
   ]
  },
  {
   "cell_type": "code",
   "execution_count": null,
   "metadata": {},
   "outputs": [],
   "source": [
    "plt.figure(figsize = (3,3))\n",
    "plt.plot(x,y,'r-')\n",
    "plt.plot(circ_points[:,0],circ_points[:,1],'.')"
   ]
  },
  {
   "cell_type": "code",
   "execution_count": null,
   "metadata": {},
   "outputs": [],
   "source": [
    "plt.imshow(im,cmap = 'gray',vmin = 0, vmax = 1)\n",
    "plt.gca().axis('off');\n",
    "plt.plot(x,y,'r-')\n",
    "\n",
    "plt.plot([0,1366],[b,m*1366+b],'r-')"
   ]
  },
  {
   "cell_type": "code",
   "execution_count": null,
   "metadata": {},
   "outputs": [],
   "source": [
    "res = []\n",
    "res[0] = 1\n",
    "res[1] = 1"
   ]
  },
  {
   "cell_type": "code",
   "execution_count": null,
   "metadata": {},
   "outputs": [],
   "source": [
    "print(res)"
   ]
  },
  {
   "cell_type": "code",
   "execution_count": null,
   "metadata": {},
   "outputs": [],
   "source": [
    "%matplotlib qt\n",
    "import numpy as np\n",
    "import matplotlib.pyplot as plt\n",
    "from matplotlib.widgets import Slider, Button, RadioButtons\n",
    "\n",
    "fig, ax = plt.subplots()\n",
    "plt.subplots_adjust(left=0.25, bottom=0.25)\n",
    "t = np.arange(0.0, 1.0, 0.001)\n",
    "a0 = 5\n",
    "f0 = 3\n",
    "delta_f = 5.0\n",
    "s = a0*np.sin(2*np.pi*f0*t)\n",
    "l, = plt.plot(t, s, lw=2, color='red')\n",
    "plt.axis([0, 1, -10, 10])\n",
    "\n",
    "axcolor = 'lightgoldenrodyellow'\n",
    "axfreq = plt.axes([0.25, 0.1, 0.65, 0.03], facecolor=axcolor)\n",
    "axamp = plt.axes([0.25, 0.15, 0.65, 0.03], facecolor=axcolor)\n",
    "\n",
    "sfreq = Slider(axfreq, 'Freq', 0.1, 30.0, valinit=f0, valstep=delta_f)\n",
    "samp = Slider(axamp, 'Amp', 0.1, 10.0, valinit=a0)\n",
    "\n",
    "\n",
    "def update(val):\n",
    "    print(val)\n",
    "    print(samp.val)\n",
    "    print(sfreq.val)\n",
    "    \n",
    "    amp = samp.val\n",
    "    freq = sfreq.val\n",
    "    l.set_ydata(amp*np.sin(2*np.pi*freq*t))\n",
    "    fig.canvas.draw_idle()\n",
    "sfreq.on_changed(update)\n",
    "samp.on_changed(update)\n",
    "\n",
    "resetax = plt.axes([0.8, 0.025, 0.1, 0.04])\n",
    "button = Button(resetax, 'Reset', color=axcolor, hovercolor='0.975')\n",
    "\n",
    "\n",
    "def reset(event):\n",
    "    sfreq.reset()\n",
    "    samp.reset()\n",
    "button.on_clicked(reset)\n",
    "\n",
    "rax = plt.axes([0.025, 0.5, 0.15, 0.15], facecolor=axcolor)\n",
    "radio = RadioButtons(rax, ('red', 'blue', 'green'), active=0)\n",
    "\n",
    "\n",
    "def colorfunc(label):\n",
    "    l.set_color(label)\n",
    "    fig.canvas.draw_idle()\n",
    "radio.on_clicked(colorfunc)\n",
    "\n",
    "plt.show()"
   ]
  },
  {
   "cell_type": "code",
   "execution_count": null,
   "metadata": {},
   "outputs": [],
   "source": []
  }
 ],
 "metadata": {
  "kernelspec": {
   "display_name": "Python 3",
   "language": "python",
   "name": "python3"
  },
  "language_info": {
   "codemirror_mode": {
    "name": "ipython",
    "version": 3
   },
   "file_extension": ".py",
   "mimetype": "text/x-python",
   "name": "python",
   "nbconvert_exporter": "python",
   "pygments_lexer": "ipython3",
   "version": "3.7.3"
  }
 },
 "nbformat": 4,
 "nbformat_minor": 2
}
